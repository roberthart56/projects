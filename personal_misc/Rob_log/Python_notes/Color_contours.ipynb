{
 "cells": [
  {
   "cell_type": "code",
   "execution_count": null,
   "metadata": {
    "collapsed": true
   },
   "outputs": [],
   "source": []
  },
  {
   "cell_type": "code",
   "execution_count": null,
   "metadata": {
    "collapsed": true
   },
   "outputs": [],
   "source": [
    "import matplotlib.pyplot as plt\n",
    "import numpy as np\n",
    "from matplotlib import cm\n",
    "%matplotlib inline\n",
    "\n",
    "extent = (-3, 3, -3, 3)\n",
    "\n",
    "delta = 1\n",
    "x = np.arange(-2, 3, delta)\n",
    "y = np.arange(-2, 3, delta)\n",
    "X, Y = np.meshgrid(x, y)\n",
    "#Z1 = np.exp(-X**2 - Y**2)\n",
    "#Z2 = np.exp(-(X - 1)**2 - (Y - 1)**2)\n",
    "#Z = Z1 - Z2\n",
    "\n",
    "Z = np.array([[0, 0, 0, 0, 0],[0, 1, 2, 3, 0],[0, 4, 5, 3, 0],[0, 3, 6, 6, 0],[0, 0, 0, 0, 0]])\n",
    "\n",
    "norm = cm.colors.Normalize(vmax=abs(Z).max(), vmin=-abs(Z).max())\n",
    "\n",
    "fig, ax = plt.subplots()\n",
    "cset1 = ax.contourf(\n",
    "    X, Y, Z, 40,\n",
    "    norm=norm)\n",
    "ax.set_xlim(-2, 2)\n",
    "ax.set_ylim(-2, 2)\n",
    "ax.set_xticks([])\n",
    "ax.set_yticks([])\n",
    "fig.savefig(\"contour_frontpage.png\", dpi=25)  # results in 160x120 px image\n",
    "plt.show()\n"
   ]
  },
  {
   "cell_type": "code",
   "execution_count": null,
   "metadata": {
    "collapsed": true
   },
   "outputs": [],
   "source": []
  },
  {
   "cell_type": "code",
   "execution_count": null,
   "metadata": {
    "collapsed": true
   },
   "outputs": [],
   "source": []
  },
  {
   "cell_type": "code",
   "execution_count": null,
   "metadata": {
    "collapsed": true
   },
   "outputs": [],
   "source": []
  },
  {
   "cell_type": "code",
   "execution_count": null,
   "metadata": {
    "collapsed": true
   },
   "outputs": [],
   "source": []
  }
 ],
 "metadata": {
  "kernelspec": {
   "display_name": "Python 3",
   "language": "python",
   "name": "python3"
  },
  "language_info": {
   "codemirror_mode": {
    "name": "ipython",
    "version": 3
   },
   "file_extension": ".py",
   "mimetype": "text/x-python",
   "name": "python",
   "nbconvert_exporter": "python",
   "pygments_lexer": "ipython3",
   "version": "3.5.1"
  }
 },
 "nbformat": 4,
 "nbformat_minor": 0
}
