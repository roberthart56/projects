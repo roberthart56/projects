{
 "cells": [
  {
   "cell_type": "code",
   "execution_count": null,
   "id": "b503f24b",
   "metadata": {},
   "outputs": [],
   "source": [
    "#open a file, read values to two arrays.  Plot arrays.\n",
    "import matplotlib.pyplot as plt\n",
    "import numpy as np   \n",
    "\n",
    "x_array = np.zeros(0)\n",
    "y_array = np.zeros(0)\n",
    "with open(\"data001.txt\", \"r\") as f:\n",
    "    for line in f.readlines():\n",
    "#         res=line.split(\",\")\n",
    "#         a=float(res[0])\n",
    "#         b=float(res[1])\n",
    "        #print(a,b)\n",
    "        x_array = np.append(x_array,a)\n",
    "#         y_array = np.append(y_array,b)"
   ]
  }
 ],
 "metadata": {
  "kernelspec": {
   "display_name": "Python 3 (ipykernel)",
   "language": "python",
   "name": "python3"
  },
  "language_info": {
   "codemirror_mode": {
    "name": "ipython",
    "version": 3
   },
   "file_extension": ".py",
   "mimetype": "text/x-python",
   "name": "python",
   "nbconvert_exporter": "python",
   "pygments_lexer": "ipython3",
   "version": "3.10.9"
  }
 },
 "nbformat": 4,
 "nbformat_minor": 5
}
